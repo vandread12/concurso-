{
 "cells": [
  {
   "cell_type": "code",
   "execution_count": 2,
   "metadata": {},
   "outputs": [
    {
     "name": "stderr",
     "output_type": "stream",
     "text": [
      "C:\\Users\\mario\\Anaconda3\\lib\\site-packages\\h5py\\__init__.py:36: FutureWarning: Conversion of the second argument of issubdtype from `float` to `np.floating` is deprecated. In future, it will be treated as `np.float64 == np.dtype(float).type`.\n",
      "  from ._conv import register_converters as _register_converters\n",
      "Using TensorFlow backend.\n"
     ]
    }
   ],
   "source": [
    "from sentiment_analysis_spanish import sentiment_analysis\n",
    "import pandas as pd\n",
    "import json\n"
   ]
  },
  {
   "cell_type": "code",
   "execution_count": 3,
   "metadata": {},
   "outputs": [],
   "source": [
    "from classifier import SentimentClassifier"
   ]
  },
  {
   "cell_type": "code",
   "execution_count": 7,
   "metadata": {},
   "outputs": [
    {
     "name": "stdout",
     "output_type": "stream",
     "text": [
      "<class 'list'>\n"
     ]
    }
   ],
   "source": [
    "tuits = pd.read_csv(\"C:/Users/mario/Desktop/tuiters.csv\")\n",
    "df_list = tuits.iloc[:,1].values.tolist()\n",
    "\n",
    "print(type(df_list))"
   ]
  },
  {
   "cell_type": "code",
   "execution_count": 8,
   "metadata": {},
   "outputs": [
    {
     "name": "stdout",
     "output_type": "stream",
     "text": [
      "['RT @Nintenderos: Desvelados nuevos detalles de las Aventuras Dinamax en Las nieves de la corona de Pokémon Espada y Escudo - https://t.co/6…', 'RT @WikiDexOficial: Azotea de la Torre de los Cielos en Pokémon Negro 2 y Blanco 2, como referencia https://t.co/WvWILqDRgT', 'Chicos, pokemon esmeralda o platino https://t.co/U7Xf4Sw7RI', 'RT @pokexperto: Calendario de Adviento de Pokémon 2020. https://t.co/jOmC7hAwFr', '@PokemonGOespana Malísimo!!! El incienso me jodió todas las capturas, no apareció ningún Pokemon se esfumaban, y ce… https://t.co/jFFbQjl1KU', 'RT @PokemonGOespana: 🔥 ¿Lo sabíais? La llama que arde en la puta de la cola de Charmander indica como se está sintiendo. La llama se mueve…', 'Tengo ganas de que saquen ya un nuevo Pokémon la verdad, pero uno bueno y bien echo, sin prisas🙃😭', '@AmorXSkam @pokemon_JoJo El de Alba ya lo subieron', 'lamentando que los motes de pokemon solo tengan 10 caracteres y no poder llamar Ana Torroja a Jigglypuff', '@Losada_Arias Dependerá básicamente de lo difícil que sea llegar a ellos usando pokémon rentados. Si se hace easy,… https://t.co/lqIcfl2zFi', '@pccomponentes #llamandoaPcComponentes para que mi madre juegue a Pokemon conmigo', 'RT @pokexperto: Calendario de Adviento de Pokémon 2020. https://t.co/jOmC7hAwFr', '@Azul_Oak como sean igual que los movimientos de los npc los pokemon alquilados va a ser horrible', 'RT @PokemonGOespana: 🔥 ¿Lo sabíais? La llama que arde en la puta de la cola de Charmander indica como se está sintiendo. La llama se mueve…', 'Me reinstale el Pokémon go y los gráficos a veces se pinzan unas milesimas de segundo y no se si es por mi movil o porque el juego es así', 'Sorteo - Pokemon Espada y Escudo \"Centiskorch\" - Cada fin de streaming sortearé 1 (11 total) https://t.co/DSfGgWxvoD', 'RT @PokemonGOespana: 🔥 ¿Lo sabíais? La llama que arde en la puta de la cola de Charmander indica como se está sintiendo. La llama se mueve…', 'RT @pokexperto: Fondo de pantalla de Zekrom y Reshiram publicado por la cuenta oficial de Pokémon https://t.co/ScV5TDn1tz', 'Necesito la colaboración de alguien que tenga el pokemon pikacher o el eevee por favor', 'Vullaby nuevo compañero !! Con mi amigo vamos a llegar al máximo nivel . Pokemon pañal . Demuestra un voraz apetito… https://t.co/6Gv4EJuYFz', 'RT @pokexperto: Fondo de pantalla de Zekrom y Reshiram publicado por la cuenta oficial de Pokémon https://t.co/ScV5TDn1tz', 'RT @PokemonGOespana: 🔥 ¿Lo sabíais? La llama que arde en la puta de la cola de Charmander indica como se está sintiendo. La llama se mueve…', '@rickymerino me muero vas evolucionando ricky eres un pokemon', 'RT @PokemonGOespana: 🔥 ¿Lo sabíais? La llama que arde en la puta de la cola de Charmander indica como se está sintiendo. La llama se mueve…', 'RT @PokemonGOespana: 🔥 ¿Lo sabíais? La llama que arde en la puta de la cola de Charmander indica como se está sintiendo. La llama se mueve…', '@pokexperto Vale, en Magic Madhouse está muy bien de precio y en stock.\\r\\nhttps://t.co/u8ZdzhRI5A', 'RT @pokexperto: El día 18 de octubre de 1999 salió a la venta en América Pokémon Amarillo.\\r\\n\\r\\n➡️ Hoy se cumple el #21º aniversario de su sali…', 'RT @PokemonGOespana: 🔥 ¿Lo sabíais? La llama que arde en la puta de la cola de Charmander indica como se está sintiendo. La llama se mueve…', 'RT @oputopablo: UPDATE DE POKÉMON #LumeVermelho \\r\\nAvanza todo a bo ritmo! Xa traducín todas as habilidades e levo máis do 50% dos ataques. C…', '@Azul_Oak Osea que entras solo con pokemon alquilados a la incursión, vaya interesante propuesta', 'RT @pokexperto: El día 18 de octubre de 1999 salió a la venta en América Pokémon Amarillo.\\r\\n\\r\\n➡️ Hoy se cumple el #21º aniversario de su sali…', 'RT @PokemonGOespana: 🔥 ¿Lo sabíais? La llama que arde en la puta de la cola de Charmander indica como se está sintiendo. La llama se mueve…', 'RT @PokemonGOespana: 🔥 ¿Lo sabíais? La llama que arde en la puta de la cola de Charmander indica como se está sintiendo. La llama se mueve…', 'RT @pokexperto: Calendario de Adviento de Pokémon 2020. https://t.co/jOmC7hAwFr', 'RT @PokemonGOespana: 🔥 ¿Lo sabíais? La llama que arde en la puta de la cola de Charmander indica como se está sintiendo. La llama se mueve…', 'RT @pokexperto: Fondo de pantalla de Zekrom y Reshiram publicado por la cuenta oficial de Pokémon https://t.co/ScV5TDn1tz', 'RT @stevens_stones: Recordemos cuando en un programa de cocina estadounidense hicieron tartas de Pokémon maravillosas. Algunas gritaban \"có…', 'RT @Misiontokyo: Los Viajes Pokémon comienzan en @boinges @Pokemon_ES_ESP  https://t.co/JNvh8IROcR https://t.co/4ZWxkTkUsO', 'RT @pokexperto: El día 18 de octubre de 1999 salió a la venta en América Pokémon Amarillo.\\r\\n\\r\\n➡️ Hoy se cumple el #21º aniversario de su sali…', 'RT @pokexperto: Calendario de Adviento de Pokémon 2020. https://t.co/jOmC7hAwFr', 'Me he despertado, puesto los leggins del gimnasio, un top deportivo, me he comido un donut y me he puesto a entrena… https://t.co/akb75PDYIG', 'Los GANADORES del Pack Shiny son:\\r\\n\\r\\n@unedepre\\r\\n@pelo_games\\r\\n@Vx2_Yt\\r\\n@ManueehG\\r\\n\\r\\nAbridme MD y os daré vuestros Pokémon h… https://t.co/VQHre4RDlR', '@pccomponentes Para jugar al pokemon go #LlamandoAPcComponentes', '@PokemonGOespana  buenas, estaba haciendo una incursión remota y pokemon go se ha reiniciado, al volver, me ha saca… https://t.co/SBwiakXmYx', 'RT @pokexperto: El día 18 de octubre de 1999 salió a la venta en América Pokémon Amarillo.\\r\\n\\r\\n➡️ Hoy se cumple el #21º aniversario de su sali…', 'Por los pokemon exclusivos y legendario\\r\\n\\r\\nPor ejemplo:\\r\\n\\r\\nEscoji escudo por Ponyta Galar entre otros\\r\\n\\r\\nPokemon X por Xe… https://t.co/vYS73xdLQe', 'EXILE https://t.co/yK1opy5Nt7', 'RT @pokexperto: Fondo de pantalla de Zekrom y Reshiram publicado por la cuenta oficial de Pokémon https://t.co/ScV5TDn1tz', 'A falta de probar aun las Aventuras Dynamax, de primeras cambiaria lo de los Pokémon de alquiler. Que pudieras usar… https://t.co/ey1zkabw60', 'RT @pokexperto: Calendario de Adviento de Pokémon 2020. https://t.co/jOmC7hAwFr', 'RT @PokemonGOespana: 🔥 ¿Lo sabíais? La llama que arde en la puta de la cola de Charmander indica como se está sintiendo. La llama se mueve…', 'Feliz 21 aniversario a Pokemon Amarillo, gran juego \\r\\n\\r\\nA pesar de no haberlo jugada ni una vez me flipa\\r\\n\\r\\nPronto lo p… https://t.co/qLc4Gp1N5d', 'RT @PokemonGOespana: 🔥 ¿Lo sabíais? La llama que arde en la puta de la cola de Charmander indica como se está sintiendo. La llama se mueve…', 'RT @PokemonGOespana: 🔥 ¿Lo sabíais? La llama que arde en la puta de la cola de Charmander indica como se está sintiendo. La llama se mueve…', 'RT @sr_brody: Sabéis qué? @aryadibravura está terminando de editar el CAPÍTULO FINAL de #Pokemon ☀️🌜 #Egglocke 🥚 para esta tarde, y solo os…', 'RT @stevens_stones: Recordemos cuando en un programa de cocina estadounidense hicieron tartas de Pokémon maravillosas. Algunas gritaban \"có…', 'Está la gente que juega a lo que está de moda y yo que llevo años buscando una copia de Pokemon heartgold para llor… https://t.co/IiqdaP8agX', 'RT @PokemonGOespana: 🔥 ¿Lo sabíais? La llama que arde en la puta de la cola de Charmander indica como se está sintiendo. La llama se mueve…', 'Los Viajes Pokémon comienzan en @boinges @Pokemon_ES_ESP  https://t.co/JNvh8IROcR https://t.co/4ZWxkTkUsO', 'RT @pokexperto: El día 18 de octubre de 1999 salió a la venta en América Pokémon Amarillo.\\r\\n\\r\\n➡️ Hoy se cumple el #21º aniversario de su sali…', 'RT @pokexperto: Fondo de pantalla de Zekrom y Reshiram publicado por la cuenta oficial de Pokémon https://t.co/ScV5TDn1tz', '@pokexperto Veo que muchos me preguntáis dónde se compra. Salvo que sea un producto exclusivo (Pokémon Center, cola… https://t.co/l9VZ1D8FwN', 'RT @Nintenderos: Discordia Pokémon ante la aparición de Stantler en el último directo de Las nieves de la corona - https://t.co/S2WcDm0GjP…', '@lostsadsora @XerneasDorado7 @thegameawards Y ahora me estoy dando cuenta de otra cosa mas, han incluido la expansi… https://t.co/rOXpYFRrF7', 'RT @pokexperto: Arte de Halloween publicado por la cuenta oficial de Pokémon Masters https://t.co/TctDN3asgn', 'RT @pokexperto: El día 18 de octubre de 1999 salió a la venta en América Pokémon Amarillo.\\r\\n\\r\\n➡️ Hoy se cumple el #21º aniversario de su sali…', 'RT @pokexperto: Fondo de pantalla de Zekrom y Reshiram publicado por la cuenta oficial de Pokémon https://t.co/ScV5TDn1tz', 'Este pokemon (por si alguien no lo conoce aunque creo que todo el mundo lo conoce) https://t.co/gskkvu4pJJ', 'Queria hacerlo desde inicio de octubre pero se me olvido a si que lo hago ahora\\r\\nMi pokemon fav de tipo bicho es scy… https://t.co/eezB5ms1n2', '7- De más pequeña, mi clase no me creia cuando decia que ellos consumian anime diariamente porque veian Shin-chan, Doraemon y Pokemon.', 'Azotea de la Torre de los Cielos en Pokémon Negro 2 y Blanco 2, como referencia https://t.co/WvWILqDRgT', 'RT @pokexperto: El día 18 de octubre de 1999 salió a la venta en América Pokémon Amarillo.\\r\\n\\r\\n➡️ Hoy se cumple el #21º aniversario de su sali…', 'Esta semana solo han habido 3 directos... SIN EMBARGO, para la siguiente:\\r\\n\\r\\nMartes y jueves - Super Mario Galaxy\\r\\nMié… https://t.co/Y4dLJADaLC', 'RT @CentroPokemon: Para conmemorar la llegada de Las Nieves de la Corona a #PokemonEspadaEscudo el 22 de octubre, The Pokémon Company estar…', 'https://t.co/jvy6c66n92\\r\\n\\r\\nParte 153 de este Playthrough de Pokémon Cafe Mix de Nintendo Switch y Android, en esta pa… https://t.co/r1d62ukgNN', 'Pokémon Sword &amp; Shield: The Crown Tundra garantizará la captura de legendarios https://t.co/BncCPS5APY https://t.co/dY3bdjuVMf', 'Mi hermano y yo vimos un cap random de la última temporada de pokemon y joder casi lloro de la risa ajdjfg', 'RT @pokexperto: Calendario de Adviento de Pokémon 2020. https://t.co/jOmC7hAwFr', 'La aplicación menos usada del 2020: Pokemon Go', 'RT @pokexperto: El día 18 de octubre de 1999 salió a la venta en América Pokémon Amarillo.\\r\\n\\r\\n➡️ Hoy se cumple el #21º aniversario de su sali…', 'RT @PokemonGOespana: 🔥 ¿Lo sabíais? La llama que arde en la puta de la cola de Charmander indica como se está sintiendo. La llama se mueve…', 'RT @pokexperto: Fondo de pantalla de Zekrom y Reshiram publicado por la cuenta oficial de Pokémon https://t.co/ScV5TDn1tz', 'Quiero amigos que jueguen al Minecraft y al Pokémon GO', 'RT @Es56k: Hoy anda el #Tetris99 con campeonato #Tetris #NintendoSwitch . Regalan Juegos de pokemon . https://t.co/7y6nZg3gr2', '¿Cuál es el pokemon favorito de las TERF catalanas? \\r\\n\\r\\nBulbanorte https://t.co/pstYJyc7U2', 'RT @pokexperto: Fondo de pantalla de Zekrom y Reshiram publicado por la cuenta oficial de Pokémon https://t.co/ScV5TDn1tz', 'RT @PokemonGOespana: 🔥 ¿Lo sabíais? La llama que arde en la puta de la cola de Charmander indica como se está sintiendo. La llama se mueve…', 'Calendario de Adviento de Pokémon 2020. https://t.co/jOmC7hAwFr', 'RT @pokexperto: Fondo de pantalla de Zekrom y Reshiram publicado por la cuenta oficial de Pokémon https://t.co/ScV5TDn1tz', 'RT @VictyLusi494: ✨Sorteo de mis 2 Living Dex✨\\r\\n\\r\\nRT+Follow para participar💕\\r\\n\\r\\nContienen 807 Pokémon +140 Formas (32 Cajas)\\r\\n\\r\\n1º Premio: Shiny…', '@aniitagss Yo estoy a 1 día de pokemon en fin la hiperpocion', 'RT @JessAnkoku: nueva Poke-commision! para @spinasoul !\\r\\n\\r\\n@ConoceArtistas @apoyaartistas @Pokemon_ES_ESP @dibujando https://t.co/BQ2VGxnORI', 'RT @pokexperto: Bewear y una nueva receta llegarán a Pokémon Café Mix el 21 de octubre https://t.co/r4UhwdyI4C', 'Buscando al Team Rocket desde mi ventana! #pokemongo #teamrocket #pokemon Síguenos y visita nuestra web para ver tu… https://t.co/r5iinEzwrW', 'RT @pokexperto: El día 18 de octubre de 1999 salió a la venta en América Pokémon Amarillo.\\r\\n\\r\\n➡️ Hoy se cumple el #21º aniversario de su sali…', 'Hoy anda el #Tetris99 con campeonato #Tetris #NintendoSwitch . Regalan Juegos de pokemon . https://t.co/7y6nZg3gr2', \"@MajinMarya Yo creo que sí, saben que anteriormente no se ha hecho nada parecido, como podría ser Tony Hawk's, poke… https://t.co/jHgRkqS0J1\", 'RT @VictyLusi494: ✨Sorteo de mis 2 Living Dex✨\\r\\n\\r\\nRT+Follow para participar💕\\r\\n\\r\\nContienen 807 Pokémon +140 Formas (32 Cajas)\\r\\n\\r\\n1º Premio: Shiny…', 'RT @PokemonGOespana: 🔥 ¿Lo sabíais? La llama que arde en la puta de la cola de Charmander indica como se está sintiendo. La llama se mueve…', 'RT @VictyLusi494: 🎃Sorteo Pokémon Halloween🎃\\r\\n\\r\\nRT+Follow para participar📝\\r\\n\\r\\n1 Ganador podrá elegir entre:\\r\\n\\r\\n-1 Caja de Pokémon de Tipo Fantasm…', 'RT @pokexperto: Fondo de pantalla de Zekrom y Reshiram publicado por la cuenta oficial de Pokémon https://t.co/ScV5TDn1tz', 'RT @CentroPokemon: Para conmemorar la llegada de Las Nieves de la Corona a #PokemonEspadaEscudo el 22 de octubre, The Pokémon Company estar…', 'Buenos días entrenadores, cómo estáis? Espero que bien, hoy estaré ocupado porque es el cumpleaños de la señorita s… https://t.co/8dp48ac1b1', 'RT @KaroKujo: ¡Lo subo antes de que Twitter se vuelva a fastidiar! Aquí tenéis la modificación que le hice a la ilustración de Pokémon Mund…', 'RT @PokemonGOespana: 🔥 ¿Lo sabíais? La llama que arde en la puta de la cola de Charmander indica como se está sintiendo. La llama se mueve…', 'RT @pokexperto: Fondo de pantalla de Zekrom y Reshiram publicado por la cuenta oficial de Pokémon https://t.co/ScV5TDn1tz', 'RT @KaroKujo: ¡Lo subo antes de que Twitter se vuelva a fastidiar! Aquí tenéis la modificación que le hice a la ilustración de Pokémon Mund…', 'RT @VictyLusi494: ✨Sorteo especial de 10 Pokémon a gusto para SWSH✨\\r\\n\\r\\nRT+Follow para participar\\r\\n\\r\\n1 Ganador📝\\r\\n\\r\\nResultados Viernes 23⏳\\r\\n\\r\\nSuerte…', '@AbsoluteHxHfan @ElArmendo En plan imagínate una zona de combates Pokémon pero con un puto huevo de combates seguid… https://t.co/BdXnqmoJ9A', 'RT @pokexperto: Fondo de pantalla de Zekrom y Reshiram publicado por la cuenta oficial de Pokémon https://t.co/ScV5TDn1tz', 'RT @PokemonGOespana: 🔥 ¿Lo sabíais? La llama que arde en la puta de la cola de Charmander indica como se está sintiendo. La llama se mueve…', 'RT @Nintenderos: Truco nos permite conseguir Pikachu con gorras infinitos en Pokémon Espada y Escudo - https://t.co/NQ4uuZxzW7 https://t.co…', 'RT @stevens_stones: Recordemos cuando en un programa de cocina estadounidense hicieron tartas de Pokémon maravillosas. Algunas gritaban \"có…', 'RT @PokemonGOespana: 🔥 ¿Lo sabíais? La llama que arde en la puta de la cola de Charmander indica como se está sintiendo. La llama se mueve…', 'Hay un pokemon que esta tirando que ya tienen la septima. Aprovecharon el momento de confusión del covid-19 y se su… https://t.co/EBQQmuyXFm', 'RT @pokexperto: Fondo de pantalla de Zekrom y Reshiram publicado por la cuenta oficial de Pokémon https://t.co/ScV5TDn1tz', 'RT @pokexperto: El día 18 de octubre de 1999 salió a la venta en América Pokémon Amarillo.\\r\\n\\r\\n➡️ Hoy se cumple el #21º aniversario de su sali…', 'Si pudieras convertir cualquier libro en una película, ¿qué elegirías y quiénes serían los actores? — El manga de p… https://t.co/qkuPUXFlW6', 'RT @PokemonGOespana: 🔥 ¿Lo sabíais? La llama que arde en la puta de la cola de Charmander indica como se está sintiendo. La llama se mueve…', 'RT @VictyLusi494: ✨Sorteo especial de 10 Pokémon a gusto para SWSH✨\\r\\n\\r\\nRT+Follow para participar\\r\\n\\r\\n1 Ganador📝\\r\\n\\r\\nResultados Viernes 23⏳\\r\\n\\r\\nSuerte…', 'RT @pokexperto: El día 18 de octubre de 1999 salió a la venta en América Pokémon Amarillo.\\r\\n\\r\\n➡️ Hoy se cumple el #21º aniversario de su sali…', 'RT @pokexperto: El día 18 de octubre de 1999 salió a la venta en América Pokémon Amarillo.\\r\\n\\r\\n➡️ Hoy se cumple el #21º aniversario de su sali…', 'RT @pokexperto: El día 18 de octubre de 1999 salió a la venta en América Pokémon Amarillo.\\r\\n\\r\\n➡️ Hoy se cumple el #21º aniversario de su sali…', 'RT @Mellaman_Demon: @PikaLiPm 1. El Pokémon insignia de Serena es Braixen, un Pokémon que en el anime solo tiene ella no como Sylveon que l…', 'RT @pokexperto: El día 18 de octubre de 1999 salió a la venta en América Pokémon Amarillo.\\r\\n\\r\\n➡️ Hoy se cumple el #21º aniversario de su sali…', '@Elterrordelord1 @Nintenderos No digas eso bro. Si en verdad amas pokemon (que parece que es así,pues tienes a Wes… https://t.co/ZUAZFeTrDT', '@Lady_Rebek @TrafalgarLawSPA Horrible, además pierde toda la fantasía de estar oyendo a Ash y a Brock de Pokémon di… https://t.co/LW7lafBkRF', '@Lugreon Creo que antes de decir nada de esto habrá que jugarlo. Si para cada legendario tienes que vencer 3 pokemo… https://t.co/1qaCTXR9bh', 'RT @alex2mle: @akamallon Manuel Juan, aunque en la rima eres Dios yo no te temo,\\r\\ny siento decirte que se te da peor el rap que los Pokémon,…', 'RT @LCE_Pokemon: Con los cambios previstos en el nuevo DLC, ¿qué Pokémon creéis que serán baneados de la liga? https://t.co/TGafmTtM8L', 'RT @pokexperto: Fondo de pantalla de Zekrom y Reshiram publicado por la cuenta oficial de Pokémon https://t.co/ScV5TDn1tz', 'RT @stevens_stones: Recordemos cuando en un programa de cocina estadounidense hicieron tartas de Pokémon maravillosas. Algunas gritaban \"có…', 'RT @CanalPokemonTV: El primer capítulo de Viajes Pokémon se llamará ¡Conociendo a Pikachu! en España.\\r\\nEn Boing a las 19:15 y segundo pase a…', 'ＡＰＥＸ\\r\\nＬＥＧＥＮ\\r\\nＤ\\r\\nＳ', 'RT @pokexperto: El día 18 de octubre de 1999 salió a la venta en América Pokémon Amarillo.\\r\\n\\r\\n➡️ Hoy se cumple el #21º aniversario de su sali…', 'RT @antorosk: \"Te quiero idiota\"\\r\\n\"Y yo a tì\" \\r\\n#SkamEspaña https://t.co/6tUUlNpGh0', 'RT @CanalPokemonTV: El primer capítulo de Viajes Pokémon se llamará ¡Conociendo a Pikachu! en España.\\r\\nEn Boing a las 19:15 y segundo pase a…', 'RT @PokemonGOespana: 🔥 ¿Lo sabíais? La llama que arde en la puta de la cola de Charmander indica como se está sintiendo. La llama se mueve…', 'RT @PokemonGOespana: 🔥 ¿Lo sabíais? La llama que arde en la puta de la cola de Charmander indica como se está sintiendo. La llama se mueve…', 'JAJAJA estoy viendo el capítulo de Pokémon de esta semana y acabo de ver al Marshtomp enterrado en el suelo, que ha… https://t.co/3TuCdTz1Xm', 'RT @pokexperto: El día 18 de octubre de 1999 salió a la venta en América Pokémon Amarillo.\\r\\n\\r\\n➡️ Hoy se cumple el #21º aniversario de su sali…', 'me la pase todo el dia jugando alv, de jugar pokemon a jugar genshin 😶', 'Len le ha dibujado un Mario con gorro de pokemon a Mario sin gorro de pokemon https://t.co/l8jzd9M9By', 'RT @pokexperto: Fondo de pantalla de Zekrom y Reshiram publicado por la cuenta oficial de Pokémon https://t.co/ScV5TDn1tz', 'RT @CentroPokemon: Modelo beta de Red (?) o de un nuevo protagonista basado en él, encontrado en los archivos de la filtración de hoy del c…', 'RT @pokexperto: El día 18 de octubre de 1999 salió a la venta en América Pokémon Amarillo.\\r\\n\\r\\n➡️ Hoy se cumple el #21º aniversario de su sali…', 'RT @pokexperto: Fondo de pantalla de Zekrom y Reshiram publicado por la cuenta oficial de Pokémon https://t.co/ScV5TDn1tz', 'RT @PokemonGOespana: 🔥 ¿Lo sabíais? La llama que arde en la puta de la cola de Charmander indica como se está sintiendo. La llama se mueve…', 'RT @AmilGZ: Isto... @SolgaleoEnergia... sabíades que vos chamades como um Pokémon? https://t.co/qz4xLIcjW3']\n"
     ]
    }
   ],
   "source": [
    "print(df_list)"
   ]
  },
  {
   "cell_type": "code",
   "execution_count": 5,
   "metadata": {
    "scrolled": true
   },
   "outputs": [],
   "source": [
    "clf = SentimentClassifier()\n",
    "#sentimiento = clf.predict(\"BBVA es )\n",
    "#print(sentimiento)"
   ]
  },
  {
   "cell_type": "code",
   "execution_count": 10,
   "metadata": {},
   "outputs": [
    {
     "name": "stdout",
     "output_type": "stream",
     "text": [
      "negativo\n",
      "positivo\n",
      "negativo\n",
      "negativo\n",
      "negativo\n",
      "negativo\n",
      "positivo\n",
      "positivo\n",
      "negativo\n",
      "positivo\n",
      "negativo\n",
      "negativo\n",
      "negativo\n",
      "negativo\n",
      "negativo\n",
      "negativo\n",
      "negativo\n",
      "negativo\n",
      "negativo\n",
      "negativo\n",
      "negativo\n",
      "negativo\n",
      "negativo\n",
      "negativo\n",
      "negativo\n",
      "positivo\n",
      "positivo\n",
      "negativo\n",
      "negativo\n",
      "positivo\n",
      "positivo\n",
      "negativo\n",
      "negativo\n",
      "negativo\n",
      "negativo\n",
      "negativo\n",
      "positivo\n",
      "negativo\n",
      "positivo\n",
      "negativo\n",
      "negativo\n",
      "negativo\n",
      "negativo\n",
      "negativo\n",
      "positivo\n",
      "positivo\n",
      "positivo\n",
      "negativo\n",
      "positivo\n",
      "negativo\n",
      "negativo\n",
      "negativo\n",
      "negativo\n",
      "negativo\n",
      "negativo\n",
      "positivo\n",
      "negativo\n",
      "negativo\n",
      "negativo\n",
      "positivo\n",
      "negativo\n",
      "negativo\n",
      "negativo\n",
      "negativo\n",
      "negativo\n",
      "positivo\n",
      "negativo\n",
      "negativo\n",
      "negativo\n",
      "negativo\n",
      "positivo\n",
      "positivo\n",
      "negativo\n",
      "negativo\n",
      "positivo\n",
      "negativo\n",
      "negativo\n",
      "negativo\n",
      "negativo\n",
      "positivo\n",
      "negativo\n",
      "negativo\n",
      "negativo\n",
      "positivo\n",
      "negativo\n",
      "negativo\n",
      "negativo\n",
      "negativo\n",
      "negativo\n",
      "positivo\n",
      "negativo\n",
      "negativo\n",
      "negativo\n",
      "negativo\n",
      "positivo\n",
      "positivo\n",
      "positivo\n",
      "positivo\n",
      "negativo\n",
      "negativo\n",
      "negativo\n",
      "negativo\n",
      "negativo\n",
      "negativo\n",
      "negativo\n",
      "negativo\n",
      "negativo\n",
      "positivo\n",
      "negativo\n",
      "negativo\n",
      "negativo\n",
      "positivo\n",
      "positivo\n",
      "negativo\n",
      "positivo\n",
      "negativo\n",
      "positivo\n",
      "positivo\n",
      "negativo\n",
      "positivo\n",
      "positivo\n",
      "positivo\n",
      "positivo\n",
      "negativo\n",
      "positivo\n",
      "negativo\n",
      "negativo\n",
      "positivo\n",
      "negativo\n",
      "negativo\n",
      "negativo\n",
      "positivo\n",
      "positivo\n",
      "positivo\n",
      "positivo\n",
      "negativo\n",
      "positivo\n",
      "negativo\n",
      "negativo\n",
      "negativo\n",
      "positivo\n",
      "negativo\n",
      "negativo\n",
      "negativo\n",
      "negativo\n",
      "positivo\n",
      "negativo\n",
      "negativo\n",
      "negativo\n"
     ]
    }
   ],
   "source": [
    "for tuit in df_list:\n",
    "    sentimiento = clf.predict(tuit)\n",
    "    if sentimiento > 0.3:\n",
    "        print(\"positivo\")\n",
    "    else:\n",
    "        print(\"negativo\")\n",
    "    \n",
    "    \n",
    "    "
   ]
  },
  {
   "cell_type": "code",
   "execution_count": null,
   "metadata": {},
   "outputs": [],
   "source": []
  }
 ],
 "metadata": {
  "kernelspec": {
   "display_name": "Python 3",
   "language": "python",
   "name": "python3"
  },
  "language_info": {
   "codemirror_mode": {
    "name": "ipython",
    "version": 3
   },
   "file_extension": ".py",
   "mimetype": "text/x-python",
   "name": "python",
   "nbconvert_exporter": "python",
   "pygments_lexer": "ipython3",
   "version": "3.6.4"
  }
 },
 "nbformat": 4,
 "nbformat_minor": 2
}
